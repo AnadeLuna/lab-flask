{
 "cells": [
  {
   "cell_type": "code",
   "execution_count": 4,
   "id": "fatal-resistance",
   "metadata": {},
   "outputs": [],
   "source": [
    "# Lo primero voy agragar datos a la base de datos de Mongo. (yo la llamé cinema)\n",
    "from pymongo import MongoClient\n",
    "\n",
    "client = MongoClient()"
   ]
  },
  {
   "cell_type": "code",
   "execution_count": 5,
   "id": "powerful-program",
   "metadata": {},
   "outputs": [],
   "source": [
    "# Mis colecciones son celebrities y movies.\n",
    "celebrities = client.cinema.celebrities\n",
    "movies = client.cinema.movies"
   ]
  },
  {
   "cell_type": "code",
   "execution_count": 6,
   "id": "cooperative-declaration",
   "metadata": {},
   "outputs": [
    {
     "data": {
      "text/plain": [
       "<pymongo.results.InsertOneResult at 0x10a50adc0>"
      ]
     },
     "execution_count": 6,
     "metadata": {},
     "output_type": "execute_result"
    }
   ],
   "source": [
    "#Creo mi primer celebrity en mongodb.\n",
    "dic = {\"name\":\"Penélope Cruz\",\n",
    "      \"occupation\":\"actor\",\n",
    "      \"catch_phrase\":\"Pretty\"}\n",
    "\n",
    "celebrities.insert_one(dic)"
   ]
  },
  {
   "cell_type": "code",
   "execution_count": 11,
   "id": "sitting-coordination",
   "metadata": {},
   "outputs": [],
   "source": [
    "#Creo una función en que me crea data en mi colleción de celebrities\n",
    "def insert_celebritie(name,occupation,catch_phrase):\n",
    "    \n",
    "    dic = {\"name\":f\"{name}\",\n",
    "      \"occupation\":f\"{occupation}\",\n",
    "      \"catch_phrase\":f\"{catch_phrase}\"}\n",
    "    \n",
    "    return celebrities.insert_one(dic)"
   ]
  },
  {
   "cell_type": "code",
   "execution_count": 12,
   "id": "level-argentina",
   "metadata": {},
   "outputs": [
    {
     "data": {
      "text/plain": [
       "<pymongo.results.InsertOneResult at 0x10a51cfc0>"
      ]
     },
     "execution_count": 12,
     "metadata": {},
     "output_type": "execute_result"
    }
   ],
   "source": [
    "#Creación de varios celebrities.\n",
    "insert_celebritie(\"Leonardo DiCaprio\",\"actor\", \"Blonde hair\")\n",
    "insert_celebritie(\"Julia Roberts\",\"actor\", \"Sexy\")\n",
    "insert_celebritie(\"Nicolas Cage\",\"actor\", \"Leaving Las Vegas\")"
   ]
  },
  {
   "cell_type": "code",
   "execution_count": 15,
   "id": "upper-rochester",
   "metadata": {},
   "outputs": [
    {
     "data": {
      "text/plain": [
       "[{'_id': ObjectId('602daa089f5b49ab9eb0fee2'), 'name': 'Penélope Cruz'},\n",
       " {'_id': ObjectId('602dae7b9f5b49ab9eb0fee3'), 'name': 'Leonardo DiCaprio'},\n",
       " {'_id': ObjectId('602dae7b9f5b49ab9eb0fee4'), 'name': 'Julia Roberts'},\n",
       " {'_id': ObjectId('602dae7b9f5b49ab9eb0fee5'), 'name': 'Nicolas Cage'}]"
      ]
     },
     "execution_count": 15,
     "metadata": {},
     "output_type": "execute_result"
    }
   ],
   "source": [
    "#Query a MongoDb: all the id y name the celebrities\n",
    "filt = {}\n",
    "proyect = {\"_id\":1,\"name\":1}\n",
    "result = celebrities.find(filt,proyect)\n",
    "list(result)"
   ]
  },
  {
   "cell_type": "code",
   "execution_count": null,
   "id": "broad-daisy",
   "metadata": {},
   "outputs": [],
   "source": []
  },
  {
   "cell_type": "code",
   "execution_count": null,
   "id": "operating-stocks",
   "metadata": {},
   "outputs": [],
   "source": []
  },
  {
   "cell_type": "code",
   "execution_count": null,
   "id": "changed-theta",
   "metadata": {},
   "outputs": [],
   "source": []
  }
 ],
 "metadata": {
  "kernelspec": {
   "display_name": "Python 3",
   "language": "python",
   "name": "python3"
  },
  "language_info": {
   "codemirror_mode": {
    "name": "ipython",
    "version": 3
   },
   "file_extension": ".py",
   "mimetype": "text/x-python",
   "name": "python",
   "nbconvert_exporter": "python",
   "pygments_lexer": "ipython3",
   "version": "3.9.1"
  }
 },
 "nbformat": 4,
 "nbformat_minor": 5
}
